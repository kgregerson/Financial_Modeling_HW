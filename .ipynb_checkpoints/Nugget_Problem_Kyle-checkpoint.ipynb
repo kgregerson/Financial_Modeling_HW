{
 "cells": [
  {
   "cell_type": "code",
   "execution_count": null,
   "metadata": {
    "collapsed": true
   },
   "outputs": [],
   "source": [
    "# Find the highest combination of 6,9, and 20, that you cannot buy\n",
    "\n",
    "candidate = 6\n",
    "in_a_row = 0\n",
    "largest = 0\n",
    "\n",
    "def is_nugget_number(candidate):\n",
    "    for i in range(0,candidate):\n",
    "        for j in range(0, candidate):\n",
    "            for k in range(0,candidate):\n",
    "                if (i*6+j*9+k*20) == candidate:\n",
    "                    return True\n",
    "    return False\n",
    "\n",
    "while in_a_row < 7:\n",
    "    if is_nugget_number(candidate) == True:\n",
    "        in_a_row += 1\n",
    "    if is_nugget_number(candidate) == False:\n",
    "        largest = candidate\n",
    "        in_a_row = 0\n",
    "    candidate += 1\n",
    "    \n",
    "\n",
    "print(\"The largest number is\", largest)"
   ]
  }
 ],
 "metadata": {
  "anaconda-cloud": {},
  "kernelspec": {
   "display_name": "Python [Root]",
   "language": "python",
   "name": "Python [Root]"
  },
  "language_info": {
   "codemirror_mode": {
    "name": "ipython",
    "version": 3
   },
   "file_extension": ".py",
   "mimetype": "text/x-python",
   "name": "python",
   "nbconvert_exporter": "python",
   "pygments_lexer": "ipython3",
   "version": "3.5.2"
  }
 },
 "nbformat": 4,
 "nbformat_minor": 0
}
