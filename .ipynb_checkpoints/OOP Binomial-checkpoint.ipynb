{
 "cells": [
  {
   "cell_type": "code",
   "execution_count": 89,
   "metadata": {
    "collapsed": true
   },
   "outputs": [],
   "source": [
    "import numpy as np\n",
    "from scipy.stats import binom"
   ]
  },
  {
   "cell_type": "code",
   "execution_count": 116,
   "metadata": {
    "collapsed": true
   },
   "outputs": [],
   "source": [
    "class VanillaOption(object):\n",
    "    def __init__(self, strike, expiry):\n",
    "        self.strike = strike\n",
    "        self.expiry = expiry\n",
    "        \n",
    "    def payoff(self, spot):\n",
    "        pass\n",
    "    \n"
   ]
  },
  {
   "cell_type": "code",
   "execution_count": 91,
   "metadata": {
    "collapsed": true
   },
   "outputs": [],
   "source": [
    "def call_payoff(spot, strike):\n",
    "    return np.maximum(spot - strike, 0.0)"
   ]
  },
  {
   "cell_type": "code",
   "execution_count": 117,
   "metadata": {
    "collapsed": true
   },
   "outputs": [],
   "source": [
    "class VanillaCallOption(VanillaOption):\n",
    "    def payoff(self, spot):\n",
    "        return np.maximum(spot - self.strike, 0.0)\n",
    "\n",
    "class VanillaPutOption(VanillaOption):\n",
    "    def payoff(self, spot):\n",
    "        return np.maximum(self.strike - spot, 0.0)"
   ]
  },
  {
   "cell_type": "markdown",
   "metadata": {},
   "source": [
    "# Instantiating Objects\n",
    "\n",
    "We can now create objects of these types as follows. First let's create a call option:\n"
   ]
  },
  {
   "cell_type": "code",
   "execution_count": 118,
   "metadata": {
    "collapsed": false
   },
   "outputs": [],
   "source": [
    "the_call = VanillaCallOption(40.0, 1.0)"
   ]
  },
  {
   "cell_type": "code",
   "execution_count": 110,
   "metadata": {
    "collapsed": false
   },
   "outputs": [
    {
     "name": "stdout",
     "output_type": "stream",
     "text": [
      "Variable                 Type                 Data/Info\n",
      "-------------------------------------------------------\n",
      "AmericanBinomialPricer   function             <function AmericanBinomia<...>er at 0x000001FA5BE6FB70>\n",
      "EurpoeanBinomialPricer   function             <function EurpoeanBinomia<...>er at 0x000001FA5BE2EF28>\n",
      "VanillaCallOption        type                 <class '__main__.VanillaCallOption'>\n",
      "VanillaOption            type                 <class '__main__.VanillaOption'>\n",
      "VanillaPutOption         type                 <class '__main__.VanillaPutOption'>\n",
      "binom                    binom_gen            <scipy.stats._discrete_di<...>ct at 0x000001FA5AD5FDA0>\n",
      "call_payoff              function             <function call_payoff at 0x000001FA5BE81C80>\n",
      "np                       module               <module 'numpy' from 'C:\\<...>ges\\\\numpy\\\\__init__.py'>\n",
      "rate                     float                0.08\n",
      "sigma                    float                0.3\n",
      "spot                     float                41.0\n",
      "steps                    int                  3\n",
      "the_Call                 vanillaCallOption    <__main__.vanillaCallOpti<...>ct at 0x000001FA5BEA2860>\n",
      "vanillaCallOption        type                 <class '__main__.vanillaCallOption'>\n",
      "vanillaOption            type                 <class '__main__.vanillaOption'>\n",
      "vanillaPutOption         type                 <class '__main__.vanillaPutOption'>\n"
     ]
    }
   ],
   "source": [
    "whos"
   ]
  },
  {
   "cell_type": "code",
   "execution_count": 111,
   "metadata": {
    "collapsed": false
   },
   "outputs": [
    {
     "ename": "AttributeError",
     "evalue": "'vanillaCallOption' object has no attribute 'strike'",
     "output_type": "error",
     "traceback": [
      "\u001b[1;31m\u001b[0m",
      "\u001b[1;31mAttributeError\u001b[0mTraceback (most recent call last)",
      "\u001b[1;32m<ipython-input-111-c159de93d7fb>\u001b[0m in \u001b[0;36m<module>\u001b[1;34m()\u001b[0m\n\u001b[0;32m      1\u001b[0m \u001b[0mspot\u001b[0m \u001b[1;33m=\u001b[0m \u001b[1;36m41.0\u001b[0m\u001b[1;33m\u001b[0m\u001b[0m\n\u001b[1;32m----> 2\u001b[1;33m \u001b[0mpo\u001b[0m \u001b[1;33m=\u001b[0m \u001b[0mthe_Call\u001b[0m\u001b[1;33m.\u001b[0m\u001b[0mpayoff\u001b[0m\u001b[1;33m(\u001b[0m\u001b[0mspot\u001b[0m\u001b[1;33m)\u001b[0m\u001b[1;33m\u001b[0m\u001b[0m\n\u001b[0m\u001b[0;32m      3\u001b[0m \u001b[0mprint\u001b[0m\u001b[1;33m(\u001b[0m\u001b[1;34m\"The Call Payoff for spot price {1:0.2f} is {1.2f}\"\u001b[0m\u001b[1;33m.\u001b[0m\u001b[0mformat\u001b[0m\u001b[1;33m(\u001b[0m\u001b[0mspot\u001b[0m\u001b[1;33m,\u001b[0m \u001b[0mpo\u001b[0m\u001b[1;33m)\u001b[0m\u001b[1;33m)\u001b[0m\u001b[1;33m\u001b[0m\u001b[0m\n",
      "\u001b[1;32m<ipython-input-57-01b70cfbebc4>\u001b[0m in \u001b[0;36mpayoff\u001b[1;34m(self, spot)\u001b[0m\n\u001b[0;32m      1\u001b[0m \u001b[1;32mclass\u001b[0m \u001b[0mvanillaCallOption\u001b[0m\u001b[1;33m(\u001b[0m\u001b[0mvanillaOption\u001b[0m\u001b[1;33m)\u001b[0m\u001b[1;33m:\u001b[0m\u001b[1;33m\u001b[0m\u001b[0m\n\u001b[0;32m      2\u001b[0m     \u001b[1;32mdef\u001b[0m \u001b[0mpayoff\u001b[0m\u001b[1;33m(\u001b[0m\u001b[0mself\u001b[0m\u001b[1;33m,\u001b[0m \u001b[0mspot\u001b[0m\u001b[1;33m)\u001b[0m\u001b[1;33m:\u001b[0m\u001b[1;33m\u001b[0m\u001b[0m\n\u001b[1;32m----> 3\u001b[1;33m         \u001b[1;32mreturn\u001b[0m \u001b[0mnp\u001b[0m\u001b[1;33m.\u001b[0m\u001b[0mmaximum\u001b[0m\u001b[1;33m(\u001b[0m\u001b[0mspot\u001b[0m \u001b[1;33m-\u001b[0m \u001b[0mself\u001b[0m\u001b[1;33m.\u001b[0m\u001b[0mstrike\u001b[0m\u001b[1;33m,\u001b[0m \u001b[1;36m0.0\u001b[0m\u001b[1;33m)\u001b[0m\u001b[1;33m\u001b[0m\u001b[0m\n\u001b[0m\u001b[0;32m      4\u001b[0m \u001b[1;33m\u001b[0m\u001b[0m\n\u001b[0;32m      5\u001b[0m \u001b[1;32mclass\u001b[0m \u001b[0mvanillaPutOption\u001b[0m\u001b[1;33m(\u001b[0m\u001b[0mvanillaOption\u001b[0m\u001b[1;33m)\u001b[0m\u001b[1;33m:\u001b[0m\u001b[1;33m\u001b[0m\u001b[0m\n",
      "\u001b[1;31mAttributeError\u001b[0m: 'vanillaCallOption' object has no attribute 'strike'"
     ]
    }
   ],
   "source": [
    "spot = 41.0\n",
    "po = the_Call.payoff(spot)\n",
    "print(\"The Call Payoff for spot price {1:0.2f} is {1.2f}\".format(spot, po))"
   ]
  },
  {
   "cell_type": "code",
   "execution_count": 112,
   "metadata": {
    "collapsed": false
   },
   "outputs": [
    {
     "ename": "TypeError",
     "evalue": "object() takes no parameters",
     "output_type": "error",
     "traceback": [
      "\u001b[1;31m\u001b[0m",
      "\u001b[1;31mTypeError\u001b[0mTraceback (most recent call last)",
      "\u001b[1;32m<ipython-input-112-3f345ca0695b>\u001b[0m in \u001b[0;36m<module>\u001b[1;34m()\u001b[0m\n\u001b[1;32m----> 1\u001b[1;33m \u001b[0mthe_other_call\u001b[0m \u001b[1;33m=\u001b[0m \u001b[0mvanillaCallOption\u001b[0m\u001b[1;33m(\u001b[0m\u001b[1;36m52.0\u001b[0m\u001b[1;33m,\u001b[0m \u001b[1;36m6.0\u001b[0m\u001b[1;33m)\u001b[0m\u001b[1;33m\u001b[0m\u001b[0m\n\u001b[0m",
      "\u001b[1;31mTypeError\u001b[0m: object() takes no parameters"
     ]
    }
   ],
   "source": [
    "the_other_call = vanillaCallOption(52.0, 6.0)\n"
   ]
  },
  {
   "cell_type": "code",
   "execution_count": 99,
   "metadata": {
    "collapsed": false
   },
   "outputs": [
    {
     "name": "stdout",
     "output_type": "stream",
     "text": [
      "Variable                 Type                 Data/Info\n",
      "-------------------------------------------------------\n",
      "EurpoeanBinomialPricer   function             <function EurpoeanBinomia<...>er at 0x000001FA5BE6F048>\n",
      "VanillaCallOption        type                 <class '__main__.VanillaCallOption'>\n",
      "VanillaOption            type                 <class '__main__.VanillaOption'>\n",
      "VanillaPutOption         type                 <class '__main__.VanillaPutOption'>\n",
      "binom                    binom_gen            <scipy.stats._discrete_di<...>ct at 0x000001FA5AD5FDA0>\n",
      "call_payoff              function             <function call_payoff at 0x000001FA5BE81C80>\n",
      "np                       module               <module 'numpy' from 'C:\\<...>ges\\\\numpy\\\\__init__.py'>\n",
      "rate                     float                0.08\n",
      "sigma                    float                0.3\n",
      "spot                     float                41.0\n",
      "steps                    int                  3\n",
      "the_Call                 vanillaCallOption    <__main__.vanillaCallOpti<...>ct at 0x000001FA5BEA2860>\n",
      "vanillaCallOption        type                 <class '__main__.vanillaCallOption'>\n",
      "vanillaOption            type                 <class '__main__.vanillaOption'>\n",
      "vanillaPutOption         type                 <class '__main__.vanillaPutOption'>\n"
     ]
    }
   ],
   "source": [
    "whos"
   ]
  },
  {
   "cell_type": "markdown",
   "metadata": {},
   "source": [
    "Next create some puts:"
   ]
  },
  {
   "cell_type": "code",
   "execution_count": 100,
   "metadata": {
    "collapsed": false
   },
   "outputs": [
    {
     "ename": "TypeError",
     "evalue": "object() takes no parameters",
     "output_type": "error",
     "traceback": [
      "\u001b[1;31m\u001b[0m",
      "\u001b[1;31mTypeError\u001b[0mTraceback (most recent call last)",
      "\u001b[1;32m<ipython-input-100-dceff96c27a9>\u001b[0m in \u001b[0;36m<module>\u001b[1;34m()\u001b[0m\n\u001b[1;32m----> 1\u001b[1;33m \u001b[0mthe_put\u001b[0m \u001b[1;33m=\u001b[0m \u001b[0mVanillaPutOption\u001b[0m\u001b[1;33m(\u001b[0m\u001b[1;36m40.0\u001b[0m\u001b[1;33m,\u001b[0m \u001b[1;36m1.0\u001b[0m\u001b[1;33m)\u001b[0m\u001b[1;33m\u001b[0m\u001b[0m\n\u001b[0m\u001b[0;32m      2\u001b[0m \u001b[0mthe_put_po\u001b[0m \u001b[1;33m=\u001b[0m \u001b[0mthe_put\u001b[0m\u001b[1;33m.\u001b[0m\u001b[0mpayoff\u001b[0m\u001b[1;33m(\u001b[0m\u001b[0mspot\u001b[0m\u001b[1;33m)\u001b[0m\u001b[1;33m\u001b[0m\u001b[0m\n\u001b[0;32m      3\u001b[0m \u001b[0mprint\u001b[0m\u001b[1;33m(\u001b[0m\u001b[1;34m\"The put payoff for a spot price of {1:2.f} is: {1:0.2f}\"\u001b[0m\u001b[1;33m.\u001b[0m\u001b[0mformat\u001b[0m\u001b[1;33m(\u001b[0m\u001b[0mspot\u001b[0m\u001b[1;33m,\u001b[0m \u001b[0mthe_put_po\u001b[0m\u001b[1;33m)\u001b[0m\u001b[1;33m)\u001b[0m\u001b[1;33m\u001b[0m\u001b[0m\n",
      "\u001b[1;31mTypeError\u001b[0m: object() takes no parameters"
     ]
    }
   ],
   "source": [
    "the_put = VanillaPutOption(40.0, 1.0)\n",
    "the_put_po = the_put.payoff(spot)\n",
    "print(\"The put payoff for a spot price of {1:2.f} is: {1:0.2f}\".format(spot, the_put_po))\n"
   ]
  },
  {
   "cell_type": "markdown",
   "metadata": {},
   "source": [
    "## Polymorphism\n"
   ]
  },
  {
   "cell_type": "code",
   "execution_count": 101,
   "metadata": {
    "collapsed": true
   },
   "outputs": [],
   "source": [
    "def EurpoeanBinomialPricer(option, spot, rate, vol, steps):\n",
    "    expiry = option.expiry\n",
    "    h = expiry / steps\n",
    "    u = np.exp(rate * h + sigma * np.sqrt(h))\n",
    "    d = np.exp(rate * h - sigma * np.sqrt(h))\n",
    "    pstar = (np.exp(rate* h) - d) / (u - d)\n",
    "    nodes = steps\n",
    "    total = 0.0\n",
    "    disc = np.exp(-rate * expiry)\n",
    "    \n",
    "    for i in range(nodes):\n",
    "        spotT = spot * ( u ** (steps - i)) * (d ** (i))\n",
    "        callT = option.payoff(spotT)\n",
    "        probT = binom.pmf(steps - i, steps, pstar)\n",
    "        total += callT * probT\n",
    "        \n",
    "    return disc * total\n",
    "    \n",
    "    "
   ]
  },
  {
   "cell_type": "code",
   "execution_count": 102,
   "metadata": {
    "collapsed": false
   },
   "outputs": [
    {
     "ename": "NameError",
     "evalue": "name 'EuropeanBinomialPricer' is not defined",
     "output_type": "error",
     "traceback": [
      "\u001b[1;31m\u001b[0m",
      "\u001b[1;31mNameError\u001b[0mTraceback (most recent call last)",
      "\u001b[1;32m<ipython-input-102-3d0eee7ff618>\u001b[0m in \u001b[0;36m<module>\u001b[1;34m()\u001b[0m\n\u001b[0;32m      3\u001b[0m \u001b[0msigma\u001b[0m \u001b[1;33m=\u001b[0m \u001b[1;36m0.30\u001b[0m\u001b[1;33m\u001b[0m\u001b[0m\n\u001b[0;32m      4\u001b[0m \u001b[0msteps\u001b[0m \u001b[1;33m=\u001b[0m \u001b[1;36m3\u001b[0m\u001b[1;33m\u001b[0m\u001b[0m\n\u001b[1;32m----> 5\u001b[1;33m \u001b[0mthe_call_price\u001b[0m \u001b[1;33m=\u001b[0m \u001b[0mEuropeanBinomialPricer\u001b[0m\u001b[1;33m(\u001b[0m\u001b[0mthe_call\u001b[0m\u001b[1;33m,\u001b[0m \u001b[0mspot\u001b[0m\u001b[1;33m,\u001b[0m \u001b[0mrate\u001b[0m\u001b[1;33m,\u001b[0m \u001b[0msigma\u001b[0m\u001b[1;33m,\u001b[0m \u001b[0msteps\u001b[0m\u001b[1;33m)\u001b[0m\u001b[1;33m\u001b[0m\u001b[0m\n\u001b[0m\u001b[0;32m      6\u001b[0m \u001b[0mprint\u001b[0m\u001b[1;33m(\u001b[0m\u001b[1;34m\"The Call Price is: {0:0.3f}\"\u001b[0m\u001b[1;33m.\u001b[0m\u001b[0mformat\u001b[0m\u001b[1;33m(\u001b[0m\u001b[0mprice\u001b[0m\u001b[1;33m)\u001b[0m\u001b[1;33m)\u001b[0m\u001b[1;33m\u001b[0m\u001b[0m\n",
      "\u001b[1;31mNameError\u001b[0m: name 'EuropeanBinomialPricer' is not defined"
     ]
    }
   ],
   "source": [
    "spot = 41.0\n",
    "rate = 0.08\n",
    "sigma = 0.30\n",
    "steps = 3\n",
    "the_call_price = EuropeanBinomialPricer(the_call, spot, rate, sigma, steps)\n",
    "print(\"The Call Price is: {0:0.3f}\".format(price))"
   ]
  },
  {
   "cell_type": "markdown",
   "metadata": {},
   "source": [
    "## Your Homework\n",
    "\n",
    "in the code cell below, create the AmericanBinomialPricer"
   ]
  },
  {
   "cell_type": "code",
   "execution_count": 105,
   "metadata": {
    "collapsed": true
   },
   "outputs": [],
   "source": [
    "def AmericanBinomialPricer(option, spot, rate, sigma, steps):\n",
    "    pass"
   ]
  },
  {
   "cell_type": "code",
   "execution_count": null,
   "metadata": {
    "collapsed": true
   },
   "outputs": [],
   "source": []
  }
 ],
 "metadata": {
  "kernelspec": {
   "display_name": "Python [Root]",
   "language": "python",
   "name": "Python [Root]"
  },
  "language_info": {
   "codemirror_mode": {
    "name": "ipython",
    "version": 3
   },
   "file_extension": ".py",
   "mimetype": "text/x-python",
   "name": "python",
   "nbconvert_exporter": "python",
   "pygments_lexer": "ipython3",
   "version": "3.5.2"
  }
 },
 "nbformat": 4,
 "nbformat_minor": 0
}
