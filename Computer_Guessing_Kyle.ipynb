{
 "cells": [
  {
   "cell_type": "code",
   "execution_count": null,
   "metadata": {
    "collapsed": true
   },
   "outputs": [],
   "source": [
    "# Computer is guessing my number, bisectional searching\n",
    "\n",
    "\n",
    "def print_header():\n",
    "    print(\"Welcome to the number guesser, I will make the correct guess in as few attempts as possible.\")\n",
    "    print(\"Think of a number between 0 and 100, and I will guess it.\")   \n",
    "    \n",
    "    \n",
    "def guessingNumber():\n",
    "    guess = int(((lowest + highest)/2))\n",
    "    return guess\n",
    "    \n",
    "lowest = 0\n",
    "highest = 100\n",
    "guess = 50\n",
    "\n",
    "response = str(input()).lower()\n",
    "tries = 0\n",
    "while response != \"Correct\" and tries < 7:\n",
    "    print_header()\n",
    "    print(\"Your number is: \" + str(guess) + \" is this too high, too low, or correct?\")\n",
    "    response = str(input()).lower()\n",
    "    if response == str(\"Too high\").lower():\n",
    "        highest = guess\n",
    "        guess = guessingNumber()\n",
    "        tries += 1\n",
    "    elif response == str(\"Too low\").lower():\n",
    "        lowest = guess + 1\n",
    "        guess = guessingNumber()\n",
    "        tries += 1\n",
    "    elif response == str(\"Correct\").lower():\n",
    "        print(\"Your number was:\", guess)\n",
    "        break\n",
    "    if tries > 6:\n",
    "        print(\"You cheated.\")"
   ]
  }
 ],
 "metadata": {
  "kernelspec": {
   "display_name": "Python [Root]",
   "language": "python",
   "name": "Python [Root]"
  },
  "language_info": {
   "codemirror_mode": {
    "name": "ipython",
    "version": 3
   },
   "file_extension": ".py",
   "mimetype": "text/x-python",
   "name": "python",
   "nbconvert_exporter": "python",
   "pygments_lexer": "ipython3",
   "version": "3.5.2"
  }
 },
 "nbformat": 4,
 "nbformat_minor": 0
}
