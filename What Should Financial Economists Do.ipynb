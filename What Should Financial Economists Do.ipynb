{
 "cells": [
  {
   "cell_type": "markdown",
   "metadata": {},
   "source": [
    "## What Should Financial Economists Do"
   ]
  },
  {
   "cell_type": "markdown",
   "metadata": {},
   "source": [
    "By: Kyle Gregerson"
   ]
  },
  {
   "cell_type": "markdown",
   "metadata": {},
   "source": [
    "To bring a measure of validity to a treatise on what financial economists “should” do, it is important to flesh out the subject matter realm in which financial economists operate, and the methodologies that support basic tenants of mainstream economics. The primary functions that lay the foundation for what economists do – and the subsequent branches of economics – is conducting research, collecting data, optimizing both data and efficiency, and developing intelligent and educated forecasts and theories for future events or catalysts. That is to say making decisions under the inescapable constraint of uncertainty. Many economists – including the late James Buchanan in his paper What Should Economists Do, published in the Southern Economic Journal – often quote Jacob Viner for his famous quote “Economics is what economists do,” a popular phrase used to either enlighten those unaware that the work that economists do is hard to explain, or provide an easy cop – out for refusing to attempt to create structure for the material economists work with. Far be it from me to provide that economic infrastructure, a green economist halfway through an undergraduate degree, but in critiquing our predecessors we can begin to learn the importance of their work, and perhaps in taking responsibility to learn our subject matter we may move towards a shared goal in helping the field of economics to evolve, a theory that is advanced in James Buchanan’s work. \n",
    "\n",
    "   It is an intimidating task to attempt to take on the onus of providing a framework for what financial economists should do, but the object becomes more reasonable from the ground up – to begin as mentioned before with what economists do, to why they do it, and then advance towards what it is that financial economics do, how the field is changing, and subsequently what it is that financial economists should do in response to those changes. \n",
    "\n",
    "   Economics, described plainly, is the study of scarcity, how individuals use resources for consumption, and how individuals make decisions under uncertainty. In order to complete these tasks, economists must have applicable data at their disposable, and more so have the ability to utilize that data, so as to conduct intelligent research – to reach valuable conclusions that will provide the basis for what changes need to be made to reach efficiency – perhaps within a sector of the marketplace – or discover ways to increase profits for the firm or agents. With this logic, it becomes abundantly clear that how that data is collected is critical, arguably more important than the methodologies for conducting analysis on information. For any model, if the inputs are garbage, the output will be garbage. Put sprinkles on shit, it’s still shit. Therefore, an important tenant for what economists should do – as much as financial economists – is to continue to refine the way that data is collected. Currently, data is made available through several different avenues and institutions, through central banks, and intergovernmental organizations such as the United Nations, European Union, or the Organization for Economic Co-operation and Development. These are, to be assumed, very reputable organizations for data dispersion, so do not get the logic confused – anyone within economics (or any academic field) that believes there is no more room for growth, that the way research is conducted is flawless and shouldn’t be challenged, most likely hates the field they are working in. To be hungry to learn is to question the foundation that make up our respective fields, to find the cracks we need to fix.\n",
    "   \n",
    "   ##\n",
    "\n"
   ]
  },
  {
   "cell_type": "code",
   "execution_count": null,
   "metadata": {
    "collapsed": true
   },
   "outputs": [],
   "source": []
  }
 ],
 "metadata": {
  "anaconda-cloud": {},
  "kernelspec": {
   "display_name": "Python [Root]",
   "language": "python",
   "name": "Python [Root]"
  },
  "language_info": {
   "codemirror_mode": {
    "name": "ipython",
    "version": 3
   },
   "file_extension": ".py",
   "mimetype": "text/x-python",
   "name": "python",
   "nbconvert_exporter": "python",
   "pygments_lexer": "ipython3",
   "version": "3.5.2"
  }
 },
 "nbformat": 4,
 "nbformat_minor": 0
}
